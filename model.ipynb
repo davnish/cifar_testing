{
 "cells": [
  {
   "cell_type": "code",
   "execution_count": 27,
   "id": "c92a46cb-926a-44fe-a9e0-691452cf1bc4",
   "metadata": {
    "scrolled": true
   },
   "outputs": [],
   "source": [
    "import torch\n",
    "import torchvision\n",
    "import torchvision.transforms as transforms\n",
    "import matplotlib.pyplot as plt\n",
    "import numpy as np\n",
    "from tqdm import tqdm"
   ]
  },
  {
   "cell_type": "code",
   "execution_count": 26,
   "id": "5d84756e-5579-4a8f-856d-1a64a609614b",
   "metadata": {},
   "outputs": [
    {
     "name": "stdout",
     "output_type": "stream",
     "text": [
      "Collecting tqdm\n",
      "  Using cached tqdm-4.67.1-py3-none-any.whl.metadata (57 kB)\n",
      "Requirement already satisfied: colorama in c:\\users\\nischal\\miniconda3\\envs\\cifar\\lib\\site-packages (from tqdm) (0.4.6)\n",
      "Using cached tqdm-4.67.1-py3-none-any.whl (78 kB)\n",
      "Installing collected packages: tqdm\n",
      "Successfully installed tqdm-4.67.1\n"
     ]
    }
   ],
   "source": [
    "# !pip install matplotlib\n",
    "!pip install tqdm"
   ]
  },
  {
   "cell_type": "code",
   "execution_count": 31,
   "id": "84227012-24c6-404c-8ff1-f37ceab87971",
   "metadata": {
    "scrolled": true
   },
   "outputs": [
    {
     "name": "stdout",
     "output_type": "stream",
     "text": [
      "Files already downloaded and verified\n",
      "Files already downloaded and verified\n"
     ]
    }
   ],
   "source": [
    "transform = transforms.Compose([transforms.ToTensor(), transforms.Normalize((0.5, 0.5, 0.5),(0.5, 0.5, 0.5))])\n",
    "# wotransform = transforms.Compose([transforms.ToTensor()])\n",
    "batch_size = 4\n",
    "trainset = torchvision.datasets.CIFAR10(root='./data', train=True, download=True, transform=transform)\n",
    "trainloader = torch.utils.data.DataLoader(trainset, batch_size=batch_size,shuffle=True)\n",
    "\n",
    "testset = torchvision.datasets.CIFAR10(root='./data', train=False, download=True, transform=transform)\n",
    "testloader = torch.utils.data.DataLoader(testset, batch_size=batch_size, shuffle=False)\n",
    "\n",
    "# trainset_norm = torchvision.datasets.CIFAR10(root='./data', train=True, download=True, transform=transform)"
   ]
  },
  {
   "cell_type": "code",
   "execution_count": 4,
   "id": "c2a0ba7a-00b2-4630-b1ff-65f499f88a04",
   "metadata": {},
   "outputs": [],
   "source": [
    "classes = ('plane', 'car', 'bird', 'cat',\n",
    "           'deer', 'dog', 'frog', 'horse', 'ship', 'truck')"
   ]
  },
  {
   "cell_type": "code",
   "execution_count": 5,
   "id": "257734c4-bcaf-4e6f-bc7f-30a4456b29bb",
   "metadata": {
    "scrolled": true
   },
   "outputs": [
    {
     "name": "stderr",
     "output_type": "stream",
     "text": [
      "Clipping input data to the valid range for imshow with RGB data ([0..1] for floats or [0..255] for integers). Got range [-1.0..1.0].\n",
      "Clipping input data to the valid range for imshow with RGB data ([0..1] for floats or [0..255] for integers). Got range [-0.9607843..0.99215686].\n",
      "Clipping input data to the valid range for imshow with RGB data ([0..1] for floats or [0..255] for integers). Got range [-0.84313726..1.0].\n",
      "Clipping input data to the valid range for imshow with RGB data ([0..1] for floats or [0..255] for integers). Got range [-0.96862745..0.8352941].\n",
      "Clipping input data to the valid range for imshow with RGB data ([0..1] for floats or [0..255] for integers). Got range [-1.0..0.99215686].\n",
      "Clipping input data to the valid range for imshow with RGB data ([0..1] for floats or [0..255] for integers). Got range [-1.0..0.9764706].\n"
     ]
    },
    {
     "data": {
      "image/png": "[encoded data removed]",
      "text/plain": [
       "<Figure size 1000x1000 with 6 Axes>"
      ]
     },
     "metadata": {},
     "output_type": "display_data"
    }
   ],
   "source": [
    "fig, axis = plt.subplots(1,6, figsize=(10,10))\n",
    "for idx, ax in enumerate(axis):\n",
    "    ax.axis('off')\n",
    "    ax.set_title(classes[trainset[idx][1]])\n",
    "    ax.imshow(np.asarray(trainset[idx][0]).transpose(1,2,0))\n",
    "plt.show()"
   ]
  },
  {
   "cell_type": "code",
   "execution_count": 84,
   "id": "5c827a52-65f0-400b-a513-4589d6169b7d",
   "metadata": {},
   "outputs": [],
   "source": [
    "# trainset_norm[0]"
   ]
  },
  {
   "cell_type": "code",
   "execution_count": 88,
   "id": "4ac6f7f3-3a61-4586-85b8-40958fd85675",
   "metadata": {},
   "outputs": [],
   "source": [
    "# fig, axis = plt.subplots(1,6, figsize=(10,10))\n",
    "# for idx, ax in enumerate(axis):\n",
    "#     ax.axis('off')\n",
    "#     ax.set_title(classes[trainset_norm[idx][1]])\n",
    "#     ax.imshow(trainset_norm[idx][0].permute(1,2,0))\n",
    "# plt.show()"
   ]
  },
  {
   "cell_type": "code",
   "execution_count": 7,
   "id": "5a0f6466-ad9a-40e6-b3fa-39b6114cc780",
   "metadata": {
    "scrolled": true
   },
   "outputs": [],
   "source": [
    "# plt.scatter(y=np.asarray(trainset[0][0]).reshape(-1), x=range(3072))\n",
    "# np.asarray(trainset[0][0]).reshape(-1).shape"
   ]
  },
  {
   "cell_type": "code",
   "execution_count": 6,
   "id": "8ed906db-0a65-41cf-8736-70b9edd59d1e",
   "metadata": {},
   "outputs": [],
   "source": [
    "# plt.scatter(y=np.asarray(trainset_norm[0][0]).reshape(-1), x=range(3072))"
   ]
  },
  {
   "cell_type": "code",
   "execution_count": 21,
   "id": "b7269652-4e81-4611-9f4c-5fa034bcbea5",
   "metadata": {},
   "outputs": [],
   "source": [
    "import torch.nn as nn\n",
    "\n",
    "class s_mlp(nn.Module):\n",
    "\n",
    "    def __init__(self, in_col, out_col):\n",
    "        super().__init__()\n",
    "        self.first_linear = nn.Linear(in_col, 4096)\n",
    "        self.second_linear = nn.Linear(4096, out_col)\n",
    "\n",
    "    def forward(self, x):\n",
    "\n",
    "        x = self.first_linear(x)\n",
    "        x = self.second_linear(x)\n",
    "\n",
    "        return x"
   ]
  },
  {
   "cell_type": "code",
   "execution_count": 22,
   "id": "36b5c20a-2ea5-4f4f-a028-f15a7f15509e",
   "metadata": {},
   "outputs": [],
   "source": [
    "model = s_mlp(3072, 8)"
   ]
  },
  {
   "cell_type": "code",
   "execution_count": 62,
   "id": "259a44e4-92b5-4da9-85e9-b7c7fc8d8a53",
   "metadata": {},
   "outputs": [],
   "source": [
    "loss_fn = nn.CrossEntropyLoss()\n",
    "optimizer = torch.optim.Adam(model.parameters(), lr=0.001)"
   ]
  },
  {
   "cell_type": "code",
   "execution_count": 61,
   "id": "e24ed48f-512c-4288-91e1-446cc2018c23",
   "metadata": {},
   "outputs": [
    {
     "data": {
      "text/plain": [
       "torch.Size([4, 3, 32, 32])"
      ]
     },
     "execution_count": 61,
     "metadata": {},
     "output_type": "execute_result"
    }
   ],
   "source": [
    "img = iter(trainloader)\n",
    "# next(img)\n",
    "# next(img)\n",
    "# next(img)\n",
    "img_data = next(img)\n",
    "img_data[0].shape"
   ]
  },
  {
   "cell_type": "code",
   "execution_count": null,
   "id": "c293b733-1219-4e6f-8914-d7404c82a6fb",
   "metadata": {},
   "outputs": [],
   "source": [
    "for epoch in range(2):\n",
    "    \n",
    "    for data,label in trainloader:\n",
    "        b, _, _, _ = data.size()\n",
    "    \n",
    "        data = data.view(b, -1)\n",
    "        label = label.view(-1).float()\n",
    "\n",
    "        optimizer.zero_grad()\n",
    "        x = model(data)\n",
    "\n",
    "        # print(x)\n",
    "        preds = torch.max(x, dim=1)[0]\n",
    "        \n",
    "        # print(preds)\n",
    "        loss = loss_fn(preds, label)\n",
    "        \n",
    "        loss.backward()\n",
    "        optimizer.step()\n",
    "        \n",
    "\n",
    "    \n",
    "    "
   ]
  },
  {
   "cell_type": "code",
   "execution_count": null,
   "id": "569b5df9-4341-43be-8d46-fce78edacd5a",
   "metadata": {},
   "outputs": [],
   "source": []
  }
 ],
 "metadata": {
  "kernelspec": {
   "display_name": "Python 3 (ipykernel)",
   "language": "python",
   "name": "python3"
  },
  "language_info": {
   "codemirror_mode": {
    "name": "ipython",
    "version": 3
   },
   "file_extension": ".py",
   "mimetype": "text/x-python",
   "name": "python",
   "nbconvert_exporter": "python",
   "pygments_lexer": "ipython3",
   "version": "3.12.8"
  }
 },
 "nbformat": 4,
 "nbformat_minor": 5
}
